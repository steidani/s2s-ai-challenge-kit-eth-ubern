{
 "cells": [
  {
   "cell_type": "markdown",
   "metadata": {},
   "source": [
    "# Train ML model to correct predictions of week 3-4 & 5-6\n",
    "\n",
    "This notebook create a Machine Learning `ML_model` to predict weeks 3-4 & 5-6 based on `S2S` weeks 3-4 & 5-6 forecasts and is compared to `CPC` observations for the [`s2s-ai-challenge`](https://s2s-ai-challenge.github.io/)."
   ]
  },
  {
   "cell_type": "markdown",
   "metadata": {},
   "source": [
    "# Synopsis"
   ]
  },
  {
   "cell_type": "markdown",
   "metadata": {},
   "source": [
    "## Method: `mean bias reduction`\n",
    "\n",
    "- calculate the mean bias from 2000-2019 deterministic ensemble mean forecast\n",
    "- remove that mean bias from 2020 forecast deterministic ensemble mean forecast"
   ]
  },
  {
   "cell_type": "markdown",
   "metadata": {},
   "source": [
    "## Data used\n",
    "\n",
    "type: renku datasets\n",
    "\n",
    "Training-input for Machine Learning model:\n",
    "- hindcasts of models:\n",
    "    - ECMWF: `ecmwf_hindcast-input_2000-2019_biweekly_deterministic`\n",
    "\n",
    "Forecast-input for Machine Learning model:\n",
    "- real-time 2020 forecasts of models:\n",
    "    - ECMWF: `ecmwf_forecast-input_2020_biweekly_deterministic`\n",
    "\n",
    "Compare Machine Learning model forecast against against ground truth:\n",
    "- `CPC` observations:\n",
    "    - `hindcast-like-observations_biweekly_deterministic`\n",
    "    - `forecast-like-observations_2020_biweekly_deterministic`"
   ]
  },
  {
   "cell_type": "markdown",
   "metadata": {},
   "source": [
    "## Resources used\n",
    "for training\n",
    "\n",
    "- platform: MPI-M supercompute 1 Node\n",
    "- memory: 64 GB\n",
    "- processors: 36 CPU\n",
    "- storage required: 10 GB"
   ]
  },
  {
   "cell_type": "markdown",
   "metadata": {},
   "source": [
    "## Safeguards\n",
    "\n",
    "All points have to be [x] checked. If not, your submission is invalid.\n",
    "\n",
    "Changes to the code after submissions are not possible, as the `commit` before the `tag` will be reviewed.\n",
    "(Only in exceptions and if previous effort in reproducibility can be found, it may be allowed to improve readability and reproducibility after November 1st 2021.)"
   ]
  },
  {
   "cell_type": "markdown",
   "metadata": {},
   "source": [
    "### Safeguards to prevent [overfitting](https://en.wikipedia.org/wiki/Overfitting?wprov=sfti1) \n",
    "\n",
    "If the organizers suspect overfitting, your contribution can be disqualified.\n",
    "\n",
    "  - [x] We didnt use 2020 observations in training (explicit overfitting and cheating)\n",
    "  - [x] We didnt repeatedly verify my model on 2020 observations and incrementally improved my RPSS (implicit overfitting)\n",
    "  - [x] We tried our best to prevent [data leakage](https://en.wikipedia.org/wiki/Leakage_(machine_learning)?wprov=sfti1).\n",
    "  - [x] We honor the `train-validate-test` [split principle](https://en.wikipedia.org/wiki/Training,_validation,_and_test_sets). This means that the hindcast data is split into `train` and `validate`, whereas `test` is withheld.\n",
    "  - [x] We did use `test` explicitly in training or implicitly in incrementally adjusting parameters.\n",
    "  - [x] We considered [cross-validation](https://en.wikipedia.org/wiki/Cross-validation_(statistics))."
   ]
  },
  {
   "cell_type": "markdown",
   "metadata": {},
   "source": [
    "### Safeguards for Reproducibility\n",
    "Notebook/code must be independently reproducible from scratch by the organizers (after the competition), if not possible: no prize\n",
    "  - [x] All training data is publicly available (no pre-trained private neural networks, as they are not reproducible for us)\n",
    "  - [x] Code is well documented, readable and reproducible.\n",
    "  - [x] Code to reproduce runs within a day."
   ]
  },
  {
   "cell_type": "markdown",
   "metadata": {},
   "source": [
    "# Todos to improve template\n",
    "\n",
    "This is just a demo.\n",
    "\n",
    "- [ ] use multiple predictor variables and two predicted variables\n",
    "- [ ] for both `lead_time`s in one go\n",
    "- [ ] consider seasonality, for now all `forecast_time` months are mixed\n",
    "- [ ] make probabilistic predictions with `category` dim, for now works deterministic"
   ]
  },
  {
   "cell_type": "markdown",
   "metadata": {},
   "source": [
    "# Imports"
   ]
  },
  {
   "cell_type": "code",
   "execution_count": 2,
   "metadata": {},
   "outputs": [],
   "source": [
    "from tensorflow.keras.layers import Input, Dense, Flatten\n",
    "from tensorflow.keras.models import Sequential\n",
    "\n",
    "import matplotlib.pyplot as plt\n",
    "\n",
    "import xarray as xr\n",
    "xr.set_options(display_style='text')\n",
    "\n",
    "from dask.utils import format_bytes\n",
    "import xskillscore as xs"
   ]
  },
  {
   "cell_type": "markdown",
   "metadata": {},
   "source": [
    "# Get training data\n",
    "\n",
    "preprocessing of input data may be done in separate notebook/script"
   ]
  },
  {
   "cell_type": "markdown",
   "metadata": {},
   "source": [
    "## Hindcast\n",
    "\n",
    "get weekly initialized hindcasts"
   ]
  },
  {
   "cell_type": "code",
   "execution_count": 3,
   "metadata": {},
   "outputs": [],
   "source": [
    "v='t2m'"
   ]
  },
  {
   "cell_type": "code",
   "execution_count": 42,
   "metadata": {},
   "outputs": [],
   "source": [
    "# preprocessed as renku dataset\n",
    "!renku storage pull ../data/ecmwf_hindcast-input_2000-2019_biweekly_deterministic.zarr"
   ]
  },
  {
   "cell_type": "code",
   "execution_count": 4,
   "metadata": {},
   "outputs": [],
   "source": [
    "hind_2000_2019 = xr.open_zarr(\"../data/ecmwf_hindcast-input_2000-2019_biweekly_deterministic.zarr\", consolidated=True)#[v]"
   ]
  },
  {
   "cell_type": "code",
   "execution_count": 44,
   "metadata": {},
   "outputs": [],
   "source": [
    "# preprocessed as renku dataset\n",
    "!renku storage pull ../data/ecmwf_forecast-input_2020_biweekly_deterministic.zarr"
   ]
  },
  {
   "cell_type": "code",
   "execution_count": 5,
   "metadata": {},
   "outputs": [],
   "source": [
    "fct_2020 = xr.open_zarr(\"../data/ecmwf_forecast-input_2020_biweekly_deterministic.zarr\", consolidated=True)#[v]"
   ]
  },
  {
   "cell_type": "markdown",
   "metadata": {},
   "source": [
    "## Observations\n",
    "corresponding to hindcasts"
   ]
  },
  {
   "cell_type": "code",
   "execution_count": 46,
   "metadata": {},
   "outputs": [],
   "source": [
    "# preprocessed as renku dataset\n",
    "!renku storage pull ../data/hindcast-like-observations_2000-2019_biweekly_deterministic.zarr"
   ]
  },
  {
   "cell_type": "code",
   "execution_count": 6,
   "metadata": {},
   "outputs": [],
   "source": [
    "obs_2000_2019 = xr.open_zarr(\"../data/hindcast-like-observations_2000-2019_biweekly_deterministic.zarr\", consolidated=True)#[v]"
   ]
  },
  {
   "cell_type": "code",
   "execution_count": 48,
   "metadata": {},
   "outputs": [],
   "source": [
    "# preprocessed as renku dataset\n",
    "!renku storage pull ../data/forecast-like-observations_2020_biweekly_deterministic.zarr"
   ]
  },
  {
   "cell_type": "code",
   "execution_count": 7,
   "metadata": {},
   "outputs": [],
   "source": [
    "obs_2020 = xr.open_zarr(\"../data/forecast-like-observations_2020_biweekly_deterministic.zarr\", consolidated=True)#[v]"
   ]
  },
  {
   "cell_type": "markdown",
   "metadata": {},
   "source": [
    "# ML model"
   ]
  },
  {
   "cell_type": "markdown",
   "metadata": {},
   "source": [
    "based on [Weatherbench](https://github.com/pangeo-data/WeatherBench/blob/master/quickstart.ipynb)"
   ]
  },
  {
   "cell_type": "code",
   "execution_count": null,
   "metadata": {},
   "outputs": [],
   "source": [
    "# run once only and dont commit\n",
    "!git clone https://github.com/pangeo-data/WeatherBench/"
   ]
  },
  {
   "cell_type": "code",
   "execution_count": 16,
   "metadata": {},
   "outputs": [],
   "source": [
    "import sys\n",
    "sys.path.insert(1, 'WeatherBench')\n",
    "from WeatherBench.src.train_nn import DataGenerator, PeriodicConv2D, create_predictions\n",
    "import tensorflow.keras as keras"
   ]
  },
  {
   "cell_type": "code",
   "execution_count": 17,
   "metadata": {},
   "outputs": [],
   "source": [
    "bs=32\n",
    "\n",
    "import numpy as np\n",
    "class DataGenerator(keras.utils.Sequence):\n",
    "    def __init__(self, fct, verif, lead_time, batch_size=bs, shuffle=True, load=True,\n",
    "                 mean=None, std=None):\n",
    "        \"\"\"\n",
    "        Data generator for WeatherBench data.\n",
    "        Template from https://stanford.edu/~shervine/blog/keras-how-to-generate-data-on-the-fly\n",
    "\n",
    "        Args:\n",
    "            fct: forecasts from S2S models: xr.DataArray (xr.Dataset doesnt work properly)\n",
    "            verif: observations with same dimensionality (xr.Dataset doesnt work properly)\n",
    "            lead_time: Lead_time as in model\n",
    "            batch_size: Batch size\n",
    "            shuffle: bool. If True, data is shuffled.\n",
    "            load: bool. If True, datadet is loaded into RAM.\n",
    "            mean: If None, compute mean from data.\n",
    "            std: If None, compute standard deviation from data.\n",
    "            \n",
    "        Todo:\n",
    "        - use number in a better way, now uses only ensemble mean forecast\n",
    "        - dont use .sel(lead_time=lead_time) to train over all lead_time at once\n",
    "        - be sensitive with forecast_time, pool a few around the weekofyear given\n",
    "        - use more variables as predictors\n",
    "        - predict more variables\n",
    "        \"\"\"\n",
    "\n",
    "        if isinstance(fct, xr.Dataset):\n",
    "            print('convert fct to array')\n",
    "            fct = fct.to_array().transpose(...,'variable')\n",
    "            self.fct_dataset=True\n",
    "        else:\n",
    "            self.fct_dataset=False\n",
    "            \n",
    "        if isinstance(verif, xr.Dataset):\n",
    "            print('convert verif to array')\n",
    "            verif = verif.to_array().transpose(...,'variable')\n",
    "            self.verif_dataset=True\n",
    "        else:\n",
    "            self.verif_dataset=False\n",
    "        \n",
    "        #self.fct = fct\n",
    "        self.batch_size = batch_size\n",
    "        self.shuffle = shuffle\n",
    "        self.lead_time = lead_time\n",
    "\n",
    "        self.fct_data = fct.transpose('forecast_time', ...).sel(lead_time=lead_time)\n",
    "        self.fct_mean = self.fct_data.mean('forecast_time').compute() if mean is None else mean\n",
    "        self.fct_std = self.fct_data.std('forecast_time').compute() if std is None else std\n",
    "        \n",
    "        self.verif_data = verif.transpose('forecast_time', ...).sel(lead_time=lead_time)\n",
    "        self.verif_mean = self.verif_data.mean('forecast_time').compute() if mean is None else mean\n",
    "        self.verif_std = self.verif_data.std('forecast_time').compute() if std is None else std\n",
    "\n",
    "        # Normalize\n",
    "        self.fct_data = (self.fct_data - self.fct_mean) / self.fct_std\n",
    "        self.verif_data = (self.verif_data - self.verif_mean) / self.verif_std\n",
    "        \n",
    "        self.n_samples = self.fct_data.forecast_time.size\n",
    "        self.forecast_time = self.fct_data.forecast_time\n",
    "\n",
    "        self.on_epoch_end()\n",
    "\n",
    "        # For some weird reason calling .load() earlier messes up the mean and std computations\n",
    "        if load: print('Loading data into RAM'); self.fct_data.load()\n",
    "\n",
    "    def __len__(self):\n",
    "        'Denotes the number of batches per epoch'\n",
    "        return int(np.ceil(self.n_samples / self.batch_size))\n",
    "\n",
    "    def __getitem__(self, i):\n",
    "        'Generate one batch of data'\n",
    "        idxs = self.idxs[i * self.batch_size:(i + 1) * self.batch_size]\n",
    "        # got all nan if nans not masked\n",
    "        X = self.fct_data.isel(forecast_time=idxs).fillna(0.).values\n",
    "        y = self.verif_data.isel(forecast_time=idxs).fillna(0.).values\n",
    "        return X, y\n",
    "\n",
    "    def on_epoch_end(self):\n",
    "        'Updates indexes after each epoch'\n",
    "        self.idxs = np.arange(self.n_samples)\n",
    "        if self.shuffle == True:\n",
    "            np.random.shuffle(self.idxs)"
   ]
  },
  {
   "cell_type": "code",
   "execution_count": 18,
   "metadata": {},
   "outputs": [
    {
     "data": {
      "text/html": [
       "<pre>&lt;xarray.DataArray &#x27;lead_time&#x27; ()&gt;\n",
       "array(1209600000000000, dtype=&#x27;timedelta64[ns]&#x27;)\n",
       "Coordinates:\n",
       "    lead_time  timedelta64[ns] 14 days\n",
       "Attributes:\n",
       "    comment:  lead_time describes bi-weekly aggregates. The pd.Timedelta corr...</pre>"
      ],
      "text/plain": [
       "<xarray.DataArray 'lead_time' ()>\n",
       "array(1209600000000000, dtype='timedelta64[ns]')\n",
       "Coordinates:\n",
       "    lead_time  timedelta64[ns] 14 days\n",
       "Attributes:\n",
       "    comment:  lead_time describes bi-weekly aggregates. The pd.Timedelta corr..."
      ]
     },
     "execution_count": 18,
     "metadata": {},
     "output_type": "execute_result"
    }
   ],
   "source": [
    "# 2 bi-weekly `lead_time`: week 3-4\n",
    "lead = hind_2000_2019.isel(lead_time=0).lead_time\n",
    "\n",
    "lead"
   ]
  },
  {
   "cell_type": "code",
   "execution_count": 19,
   "metadata": {},
   "outputs": [],
   "source": [
    "# mask\n",
    "hind_2000_2019 = hind_2000_2019.where(obs_2000_2019.isel(forecast_time=0, lead_time=0,drop=True).notnull())"
   ]
  },
  {
   "cell_type": "markdown",
   "metadata": {},
   "source": [
    "## data prep: train, valid, test\n",
    "\n",
    "[Use the hindcast period to split train and valid.](https://en.wikipedia.org/wiki/Training,_validation,_and_test_sets) Do not use the 2020 data for testing!"
   ]
  },
  {
   "cell_type": "code",
   "execution_count": 20,
   "metadata": {},
   "outputs": [],
   "source": [
    "# time is the forecast_time\n",
    "time_train_start,time_train_end='2000','2017' # train\n",
    "time_valid_start,time_valid_end='2018','2019' # valid\n",
    "time_test = '2020'                            # test"
   ]
  },
  {
   "cell_type": "code",
   "execution_count": 21,
   "metadata": {},
   "outputs": [
    {
     "name": "stderr",
     "output_type": "stream",
     "text": [
      "/work/mh0727/m300524/conda-envs/s2s-ai/lib/python3.7/site-packages/dask/array/numpy_compat.py:40: RuntimeWarning: invalid value encountered in true_divide\n",
      "  x = np.divide(x1, x2, out)\n",
      "/work/mh0727/m300524/conda-envs/s2s-ai/lib/python3.7/site-packages/dask/array/numpy_compat.py:40: RuntimeWarning: invalid value encountered in true_divide\n",
      "  x = np.divide(x1, x2, out)\n",
      "/work/mh0727/m300524/conda-envs/s2s-ai/lib/python3.7/site-packages/dask/array/numpy_compat.py:40: RuntimeWarning: invalid value encountered in true_divide\n",
      "  x = np.divide(x1, x2, out)\n",
      "/work/mh0727/m300524/conda-envs/s2s-ai/lib/python3.7/site-packages/dask/array/numpy_compat.py:40: RuntimeWarning: invalid value encountered in true_divide\n",
      "  x = np.divide(x1, x2, out)\n"
     ]
    },
    {
     "name": "stdout",
     "output_type": "stream",
     "text": [
      "Loading data into RAM\n"
     ]
    },
    {
     "name": "stderr",
     "output_type": "stream",
     "text": [
      "/work/mh0727/m300524/conda-envs/s2s-ai/lib/python3.7/site-packages/dask/array/numpy_compat.py:40: RuntimeWarning: invalid value encountered in true_divide\n",
      "  x = np.divide(x1, x2, out)\n"
     ]
    }
   ],
   "source": [
    "dg_train = DataGenerator(\n",
    "    hind_2000_2019.mean('realization').sel(forecast_time=slice(time_train_start,time_train_end))[v],\n",
    "    obs_2000_2019.sel(forecast_time=slice(time_train_start,time_train_end))[v],\n",
    "    lead_time=lead, batch_size=bs, load=True)"
   ]
  },
  {
   "cell_type": "code",
   "execution_count": 22,
   "metadata": {},
   "outputs": [
    {
     "name": "stderr",
     "output_type": "stream",
     "text": [
      "/work/mh0727/m300524/conda-envs/s2s-ai/lib/python3.7/site-packages/dask/array/numpy_compat.py:40: RuntimeWarning: invalid value encountered in true_divide\n",
      "  x = np.divide(x1, x2, out)\n",
      "/work/mh0727/m300524/conda-envs/s2s-ai/lib/python3.7/site-packages/dask/array/numpy_compat.py:40: RuntimeWarning: invalid value encountered in true_divide\n",
      "  x = np.divide(x1, x2, out)\n",
      "/work/mh0727/m300524/conda-envs/s2s-ai/lib/python3.7/site-packages/dask/array/numpy_compat.py:40: RuntimeWarning: invalid value encountered in true_divide\n",
      "  x = np.divide(x1, x2, out)\n",
      "/work/mh0727/m300524/conda-envs/s2s-ai/lib/python3.7/site-packages/dask/array/numpy_compat.py:40: RuntimeWarning: invalid value encountered in true_divide\n",
      "  x = np.divide(x1, x2, out)\n",
      "/work/mh0727/m300524/conda-envs/s2s-ai/lib/python3.7/site-packages/dask/array/numpy_compat.py:40: RuntimeWarning: invalid value encountered in true_divide\n",
      "  x = np.divide(x1, x2, out)\n"
     ]
    },
    {
     "name": "stdout",
     "output_type": "stream",
     "text": [
      "Loading data into RAM\n"
     ]
    }
   ],
   "source": [
    "dg_valid = DataGenerator(\n",
    "    hind_2000_2019.mean('realization').sel(forecast_time=slice(time_valid_start,time_valid_end))[v],\n",
    "    obs_2000_2019.sel(forecast_time=slice(time_valid_start,time_valid_end))[v],\n",
    "    lead_time=lead, batch_size=bs, shuffle=False, load=True)"
   ]
  },
  {
   "cell_type": "code",
   "execution_count": 23,
   "metadata": {},
   "outputs": [
    {
     "name": "stdout",
     "output_type": "stream",
     "text": [
      "Loading data into RAM\n"
     ]
    }
   ],
   "source": [
    "# do not use, delete?\n",
    "dg_test = DataGenerator(\n",
    "    fct_2020.mean('realization').sel(forecast_time=time_test)[v],\n",
    "    obs_2020.sel(forecast_time=time_test)[v],\n",
    "    lead_time=lead, batch_size=bs, load=True, mean=dg_train.fct_mean, std=dg_train.fct_std, shuffle=False)"
   ]
  },
  {
   "cell_type": "code",
   "execution_count": 24,
   "metadata": {},
   "outputs": [
    {
     "data": {
      "text/plain": [
       "((32, 121, 240), (32, 121, 240))"
      ]
     },
     "execution_count": 24,
     "metadata": {},
     "output_type": "execute_result"
    }
   ],
   "source": [
    "X, y = dg_valid[0]\n",
    "X.shape, y.shape"
   ]
  },
  {
   "cell_type": "code",
   "execution_count": 25,
   "metadata": {},
   "outputs": [
    {
     "data": {
      "text/plain": [
       "<matplotlib.collections.QuadMesh at 0x2b14853e5e90>"
      ]
     },
     "execution_count": 25,
     "metadata": {},
     "output_type": "execute_result"
    },
    {
     "data": {
      "image/png": "[encoded data removed]",
      "text/plain": [
       "<Figure size 432x288 with 2 Axes>"
      ]
     },
     "metadata": {
      "needs_background": "light"
     },
     "output_type": "display_data"
    }
   ],
   "source": [
    "# short look into training data: large biases\n",
    "# any problem from normalizing?\n",
    "i=4\n",
    "xr.DataArray(np.vstack([X[i],y[i]])).plot(yincrease=False, robust=True)"
   ]
  },
  {
   "cell_type": "markdown",
   "metadata": {},
   "source": [
    "## `fit`"
   ]
  },
  {
   "cell_type": "code",
   "execution_count": 26,
   "metadata": {},
   "outputs": [
    {
     "name": "stdout",
     "output_type": "stream",
     "text": [
      "WARNING:tensorflow:AutoGraph could not transform <bound method PeriodicPadding2D.call of <WeatherBench.src.train_nn.PeriodicPadding2D object at 0x2b164bab3b50>> and will run it as-is.\n",
      "Please report this to the TensorFlow team. When filing the bug, set the verbosity to 10 (on Linux, `export AUTOGRAPH_VERBOSITY=10`) and attach the full output.\n",
      "Cause: module 'gast' has no attribute 'Index'\n",
      "To silence this warning, decorate the function with @tf.autograph.experimental.do_not_convert\n",
      "WARNING: AutoGraph could not transform <bound method PeriodicPadding2D.call of <WeatherBench.src.train_nn.PeriodicPadding2D object at 0x2b164bab3b50>> and will run it as-is.\n",
      "Please report this to the TensorFlow team. When filing the bug, set the verbosity to 10 (on Linux, `export AUTOGRAPH_VERBOSITY=10`) and attach the full output.\n",
      "Cause: module 'gast' has no attribute 'Index'\n",
      "To silence this warning, decorate the function with @tf.autograph.experimental.do_not_convert\n"
     ]
    }
   ],
   "source": [
    "cnn = keras.models.Sequential([\n",
    "    PeriodicConv2D(filters=32, kernel_size=5, conv_kwargs={'activation':'relu'}, input_shape=(32, 64, 1)),\n",
    "    PeriodicConv2D(filters=1, kernel_size=5)\n",
    "])"
   ]
  },
  {
   "cell_type": "code",
   "execution_count": 27,
   "metadata": {},
   "outputs": [
    {
     "name": "stdout",
     "output_type": "stream",
     "text": [
      "Model: \"sequential\"\n",
      "_________________________________________________________________\n",
      "Layer (type)                 Output Shape              Param #   \n",
      "=================================================================\n",
      "periodic_conv2d (PeriodicCon (None, 32, 64, 32)        832       \n",
      "_________________________________________________________________\n",
      "periodic_conv2d_1 (PeriodicC (None, 32, 64, 1)         801       \n",
      "=================================================================\n",
      "Total params: 1,633\n",
      "Trainable params: 1,633\n",
      "Non-trainable params: 0\n",
      "_________________________________________________________________\n"
     ]
    }
   ],
   "source": [
    "cnn.summary()"
   ]
  },
  {
   "cell_type": "code",
   "execution_count": 28,
   "metadata": {},
   "outputs": [],
   "source": [
    "cnn.compile(keras.optimizers.Adam(1e-4), 'mse')"
   ]
  },
  {
   "cell_type": "code",
   "execution_count": 29,
   "metadata": {},
   "outputs": [],
   "source": [
    "import warnings\n",
    "warnings.simplefilter(\"ignore\")"
   ]
  },
  {
   "cell_type": "code",
   "execution_count": 30,
   "metadata": {},
   "outputs": [
    {
     "name": "stdout",
     "output_type": "stream",
     "text": [
      "Epoch 1/3\n",
      "30/30 [==============================] - 19s 491ms/step - loss: 0.1931 - val_loss: 0.1190\n",
      "Epoch 2/3\n",
      "30/30 [==============================] - 14s 454ms/step - loss: 0.1170 - val_loss: 0.0769\n",
      "Epoch 3/3\n",
      "30/30 [==============================] - 14s 454ms/step - loss: 0.0777 - val_loss: 0.0624\n"
     ]
    },
    {
     "data": {
      "text/plain": [
       "<tensorflow.python.keras.callbacks.History at 0x2b148504aa50>"
      ]
     },
     "execution_count": 30,
     "metadata": {},
     "output_type": "execute_result"
    }
   ],
   "source": [
    "cnn.fit(dg_train, epochs=3, validation_data=dg_valid)"
   ]
  },
  {
   "cell_type": "markdown",
   "metadata": {},
   "source": [
    "## `predict` 2020"
   ]
  },
  {
   "cell_type": "code",
   "execution_count": 33,
   "metadata": {},
   "outputs": [],
   "source": [
    "from scripts import add_valid_time_from_forecast_reference_time_and_lead_time\n",
    "\n",
    "def create_predictions(model, dg, lead):\n",
    "    \"\"\"Create non-iterative predictions\"\"\"\n",
    "    preds = model.predict(dg).squeeze()\n",
    "    # Unnormalize\n",
    "    preds = preds * dg.fct_std.values + dg.fct_mean.values\n",
    "    if dg.verif_dataset:\n",
    "        da = xr.DataArray(\n",
    "                    preds,\n",
    "                    dims=['forecast_time', 'latitude', 'longitude','variable'],\n",
    "                    coords={'forecast_time': dg.fct_data.forecast_time, 'latitude': dg.fct_data.latitude,\n",
    "                            'longitude': dg.fct_data.longitude},\n",
    "                ).to_dataset()\n",
    "    else:\n",
    "        da = xr.DataArray(\n",
    "                    preds,\n",
    "                    dims=['forecast_time', 'latitude', 'longitude'],\n",
    "                    coords={'forecast_time': dg.fct_data.forecast_time, 'latitude': dg.fct_data.latitude,\n",
    "                            'longitude': dg.fct_data.longitude},\n",
    "                )\n",
    "    da = da.assign_coords(lead_time=lead)\n",
    "    # da = add_valid_time_from_forecast_reference_time_and_lead_time(da)\n",
    "    return da"
   ]
  },
  {
   "cell_type": "code",
   "execution_count": 34,
   "metadata": {},
   "outputs": [],
   "source": [
    "preds = create_predictions(cnn, dg_test, lead)"
   ]
  },
  {
   "cell_type": "code",
   "execution_count": 35,
   "metadata": {},
   "outputs": [
    {
     "data": {
      "text/plain": [
       "Coordinates:\n",
       "  * forecast_time  (forecast_time) datetime64[ns] 2020-01-02 ... 2020-12-31\n",
       "  * latitude       (latitude) float64 90.0 88.5 87.0 85.5 ... -87.0 -88.5 -90.0\n",
       "  * longitude      (longitude) float64 0.0 1.5 3.0 4.5 ... 355.5 357.0 358.5\n",
       "    lead_time      timedelta64[ns] 14 days"
      ]
     },
     "execution_count": 35,
     "metadata": {},
     "output_type": "execute_result"
    }
   ],
   "source": [
    "preds.coords"
   ]
  },
  {
   "cell_type": "markdown",
   "metadata": {},
   "source": [
    "#### predict over all steps"
   ]
  },
  {
   "cell_type": "code",
   "execution_count": 36,
   "metadata": {},
   "outputs": [
    {
     "name": "stdout",
     "output_type": "stream",
     "text": [
      "Loading data into RAM\n",
      "Loading data into RAM\n"
     ]
    }
   ],
   "source": [
    "# this is not useful but results have expected dimensions\n",
    "# actually train for each lead_time\n",
    "\n",
    "preds=[]\n",
    "for step in hind_2000_2019.lead_time:\n",
    "    dg_test = DataGenerator(fct_2020.mean('realization').sel(forecast_time=slice(time_test))[v], obs_2020[v],\n",
    "                        lead_time=lead, batch_size=bs, mean=dg_train.fct_mean, std=dg_train.fct_std, shuffle=False)\n",
    "    preds.append(create_predictions(cnn, dg_test, lead))\n",
    "preds = xr.concat(preds, 'lead_time')\n",
    "preds['lead_time']=hind_2000_2019.lead_time\n",
    "preds = add_valid_time_from_forecast_reference_time_and_lead_time(preds)\n",
    "preds=preds.to_dataset(name=v)"
   ]
  },
  {
   "cell_type": "code",
   "execution_count": 37,
   "metadata": {},
   "outputs": [
    {
     "data": {
      "text/plain": [
       "Coordinates:\n",
       "  * forecast_time  (forecast_time) datetime64[ns] 2020-01-02 ... 2020-12-31\n",
       "  * latitude       (latitude) float64 90.0 88.5 87.0 85.5 ... -87.0 -88.5 -90.0\n",
       "  * longitude      (longitude) float64 0.0 1.5 3.0 4.5 ... 355.5 357.0 358.5\n",
       "  * lead_time      (lead_time) timedelta64[ns] 14 days 28 days\n",
       "    valid_time     (lead_time, forecast_time) datetime64[ns] 2020-01-16 ... 2..."
      ]
     },
     "execution_count": 37,
     "metadata": {},
     "output_type": "execute_result"
    }
   ],
   "source": [
    "preds.coords"
   ]
  },
  {
   "cell_type": "markdown",
   "metadata": {},
   "source": [
    "### convert preds to preds_as_terciles"
   ]
  },
  {
   "cell_type": "code",
   "execution_count": 38,
   "metadata": {},
   "outputs": [],
   "source": [
    "mask = obs_2020.std(['lead_time','forecast_time']).notnull()"
   ]
  },
  {
   "cell_type": "code",
   "execution_count": 39,
   "metadata": {},
   "outputs": [],
   "source": [
    "from scripts import make_probabilistic"
   ]
  },
  {
   "cell_type": "code",
   "execution_count": null,
   "metadata": {},
   "outputs": [],
   "source": [
    "!renku storage pull ../data/hindcast-like-observations_2000-2019_biweekly_tercile-edges.nc"
   ]
  },
  {
   "cell_type": "code",
   "execution_count": 49,
   "metadata": {},
   "outputs": [],
   "source": [
    "cache_path='../data'\n",
    "tercile_file = f'{cache_path}/hindcast-like-observations_2000-2019_biweekly_tercile-edges.nc'\n",
    "tercile_edges = xr.open_dataset(tercile_file).rename({'weekofyear':'forecast_time'}).assign_coords(forecast_time=obs_2020.forecast_time)"
   ]
  },
  {
   "cell_type": "code",
   "execution_count": 50,
   "metadata": {},
   "outputs": [],
   "source": [
    "# converting realization mean prediction into binary forecast probabilities\n",
    "submission = make_probabilistic(preds.expand_dims('realization'), tercile_edges, mask=mask)"
   ]
  },
  {
   "cell_type": "code",
   "execution_count": 57,
   "metadata": {},
   "outputs": [],
   "source": [
    "# submission[v].isel(forecast_time=0).plot(col='category', row='lead_time', robust=True)"
   ]
  },
  {
   "cell_type": "markdown",
   "metadata": {},
   "source": [
    "# Submission"
   ]
  },
  {
   "cell_type": "code",
   "execution_count": 51,
   "metadata": {},
   "outputs": [
    {
     "data": {
      "text/plain": [
       "'t2m'"
      ]
     },
     "execution_count": 51,
     "metadata": {},
     "output_type": "execute_result"
    }
   ],
   "source": [
    "v"
   ]
  },
  {
   "cell_type": "code",
   "execution_count": 52,
   "metadata": {},
   "outputs": [],
   "source": [
    "# add a fake second variable\n",
    "submission['tp'] = submission[v]"
   ]
  },
  {
   "cell_type": "code",
   "execution_count": 53,
   "metadata": {},
   "outputs": [
    {
     "data": {
      "text/plain": [
       "Frozen(SortedKeysDict({'category': 3, 'lead_time': 2, 'forecast_time': 53, 'latitude': 121, 'longitude': 240}))"
      ]
     },
     "execution_count": 53,
     "metadata": {},
     "output_type": "execute_result"
    }
   ],
   "source": [
    "submission.sizes # expect: category(3), longitude, latitude, lead_time(2), forecast_time (53)"
   ]
  },
  {
   "cell_type": "code",
   "execution_count": 54,
   "metadata": {},
   "outputs": [
    {
     "data": {
      "text/plain": [
       "'147.76 MB'"
      ]
     },
     "execution_count": 54,
     "metadata": {},
     "output_type": "execute_result"
    }
   ],
   "source": [
    "format_bytes(submission.nbytes)"
   ]
  },
  {
   "cell_type": "code",
   "execution_count": 55,
   "metadata": {},
   "outputs": [],
   "source": [
    "submission.to_netcdf('../submissions/ML_prediction_2020.nc')"
   ]
  },
  {
   "cell_type": "code",
   "execution_count": null,
   "metadata": {},
   "outputs": [],
   "source": [
    "#!git add ../submissions/ML_prediction_2020.nc"
   ]
  },
  {
   "cell_type": "code",
   "execution_count": null,
   "metadata": {},
   "outputs": [],
   "source": [
    "#git commit -m \"commit submission for my_method\"\n",
    "#git tag \"submission-my_method-0.0.1\" # if this is to be checked by scorer"
   ]
  },
  {
   "cell_type": "code",
   "execution_count": null,
   "metadata": {},
   "outputs": [],
   "source": [
    "#git push --tags"
   ]
  },
  {
   "cell_type": "code",
   "execution_count": null,
   "metadata": {},
   "outputs": [],
   "source": []
  },
  {
   "cell_type": "markdown",
   "metadata": {},
   "source": [
    "# Reproducibility"
   ]
  },
  {
   "cell_type": "markdown",
   "metadata": {},
   "source": [
    "## memory"
   ]
  },
  {
   "cell_type": "code",
   "execution_count": 8,
   "metadata": {},
   "outputs": [
    {
     "name": "stdout",
     "output_type": "stream",
     "text": [
      "             total       used       free     shared    buffers     cached\n",
      "Mem:            62          4         58          0          0          1\n",
      "-/+ buffers/cache:          3         59\n",
      "Swap:            0          0          0\n"
     ]
    }
   ],
   "source": [
    "# https://phoenixnap.com/kb/linux-commands-check-memory-usage\n",
    "!free -g"
   ]
  },
  {
   "cell_type": "markdown",
   "metadata": {},
   "source": [
    "## CPU"
   ]
  },
  {
   "cell_type": "code",
   "execution_count": 5,
   "metadata": {},
   "outputs": [
    {
     "name": "stdout",
     "output_type": "stream",
     "text": [
      "Architecture:          x86_64\n",
      "CPU op-mode(s):        32-bit, 64-bit\n",
      "Byte Order:            Little Endian\n",
      "CPU(s):                72\n",
      "On-line CPU(s) list:   0-71\n",
      "Thread(s) per core:    2\n",
      "Core(s) per socket:    18\n",
      "Socket(s):             2\n",
      "NUMA node(s):          2\n",
      "Vendor ID:             GenuineIntel\n",
      "CPU family:            6\n",
      "Model:                 79\n",
      "Model name:            Intel(R) Xeon(R) CPU E5-2695 v4 @ 2.10GHz\n",
      "Stepping:              1\n",
      "CPU MHz:               2100.000\n",
      "BogoMIPS:              4190.01\n",
      "Virtualization:        VT-x\n",
      "L1d cache:             32K\n",
      "L1i cache:             32K\n",
      "L2 cache:              256K\n",
      "L3 cache:              46080K\n",
      "NUMA node0 CPU(s):     0-17,36-53\n",
      "NUMA node1 CPU(s):     18-35,54-71\n"
     ]
    }
   ],
   "source": [
    "!lscpu"
   ]
  },
  {
   "cell_type": "markdown",
   "metadata": {},
   "source": [
    "## software"
   ]
  },
  {
   "cell_type": "code",
   "execution_count": 6,
   "metadata": {},
   "outputs": [
    {
     "name": "stdout",
     "output_type": "stream",
     "text": [
      "# packages in environment at /work/mh0727/m300524/conda-envs/s2s-ai:\n",
      "#\n",
      "# Name                    Version                   Build  Channel\n",
      "_libgcc_mutex             0.1                        main  \n",
      "_tflow_select             2.3.0                       mkl  \n",
      "absl-py                   0.12.0           py37h06a4308_0  \n",
      "aiobotocore               1.2.2              pyhd3eb1b0_0  \n",
      "aiohttp                   3.7.4            py37h27cfd23_1  \n",
      "aioitertools              0.7.1              pyhd3eb1b0_0  \n",
      "anyio                     2.2.0                    pypi_0    pypi\n",
      "appdirs                   1.4.4                      py_0  \n",
      "argcomplete               1.12.2                   pypi_0    pypi\n",
      "argon2-cffi               20.1.0           py37h27cfd23_1  \n",
      "asciitree                 0.3.3                      py_2  \n",
      "astunparse                1.6.3                      py_0  \n",
      "async-timeout             3.0.1            py37h06a4308_0  \n",
      "async_generator           1.10             py37h28b3542_0  \n",
      "attrs                     20.2.0                   pypi_0    pypi\n",
      "babel                     2.9.0                    pypi_0    pypi\n",
      "backcall                  0.2.0              pyhd3eb1b0_0  \n",
      "backrefs                  5.0.1                    pypi_0    pypi\n",
      "bagit                     1.8.1                    pypi_0    pypi\n",
      "beautifulsoup4            4.9.3              pyha847dfd_0  \n",
      "black                     20.8b1                   pypi_0    pypi\n",
      "blas                      1.0                         mkl  \n",
      "bleach                    3.3.0              pyhd3eb1b0_0  \n",
      "blinker                   1.4              py37h06a4308_0  \n",
      "bokeh                     2.3.0            py37h06a4308_0  \n",
      "botocore                  1.20.33            pyhd3eb1b0_1  \n",
      "bottleneck                1.3.2            py37heb32a55_1  \n",
      "bracex                    2.1.1                    pypi_0    pypi\n",
      "branca                    0.3.1                    pypi_0    pypi\n",
      "brotlipy                  0.7.0           py37h27cfd23_1003  \n",
      "bzip2                     1.0.8                h7b6447c_0  \n",
      "c-ares                    1.17.1               h27cfd23_0  \n",
      "ca-certificates           2021.1.19            h06a4308_1  \n",
      "cachecontrol              0.11.7                   pypi_0    pypi\n",
      "cachetools                4.2.1              pyhd3eb1b0_0  \n",
      "calamus                   0.3.7                    pypi_0    pypi\n",
      "cdsapi                    0.5.1                    pypi_0    pypi\n",
      "certifi                   2020.12.5        py37h06a4308_0  \n",
      "cffi                      1.14.5           py37h261ae71_0  \n",
      "cfgrib                    0.9.8.5            pyhd8ed1ab_0    conda-forge\n",
      "cftime                    1.4.1            py37h6323ea4_0  \n",
      "chardet                   3.0.4           py37h06a4308_1003  \n",
      "click                     7.1.2              pyhd3eb1b0_0  \n",
      "click-completion          0.5.2                    pypi_0    pypi\n",
      "click-plugins             1.1.1                    pypi_0    pypi\n",
      "climetlab                 0.5.6                    pypi_0    pypi\n",
      "climetlab-s2s-ai-challenge 0.4.17                    dev_0    <develop>\n",
      "climetlab-s2s-ai-competition 0.3.7                    pypi_0    pypi\n",
      "cloudpickle               1.6.0                      py_0  \n",
      "colorama                  0.4.4                    pypi_0    pypi\n",
      "coloredlogs               15.0                     pypi_0    pypi\n",
      "commonmark                0.9.1                    pypi_0    pypi\n",
      "configargparse            1.4                      pypi_0    pypi\n",
      "coverage                  5.5              py37h27cfd23_2  \n",
      "cryptography              3.4.6            py37hd23ed53_0  \n",
      "curl                      7.71.1               hbc83047_1  \n",
      "cwlgen                    0.4.2                    pypi_0    pypi\n",
      "cwltool                   3.0.20210319143721          pypi_0    pypi\n",
      "cycler                    0.10.0                   py37_0  \n",
      "cython                    0.29.22          py37h2531618_0  \n",
      "cytoolz                   0.11.0           py37h7b6447c_0  \n",
      "dask                      2021.3.0                 pypi_0    pypi\n",
      "dask-labextension         5.0.1                    pypi_0    pypi\n",
      "dbus                      1.13.18              hb2f20db_0  \n",
      "decorator                 4.4.2              pyhd3eb1b0_0  \n",
      "defusedxml                0.7.1              pyhd3eb1b0_0  \n",
      "distributed               2021.3.0         py37h06a4308_0  \n",
      "docopt                    0.6.2            py37h06a4308_0  \n",
      "eccodes                   1.2.0                    pypi_0    pypi\n",
      "ecmwf-api-client          1.6.1                    pypi_0    pypi\n",
      "ecmwflibs                 0.2.3                    pypi_0    pypi\n",
      "entrypoints               0.3                      py37_0  \n",
      "environ-config            20.1.0                   pypi_0    pypi\n",
      "expat                     2.2.10               he6710b0_2  \n",
      "fasteners                 0.16               pyhd3eb1b0_0  \n",
      "fastprogress              1.0.0                      py_0    conda-forge\n",
      "filelock                  3.0.12                   pypi_0    pypi\n",
      "folium                    0.12.1                   pypi_0    pypi\n",
      "fontconfig                2.13.1               h6c09931_0  \n",
      "freetype                  2.10.4               h5ab3b9f_0  \n",
      "frozendict                1.2                      pypi_0    pypi\n",
      "fsspec                    0.8.7              pyhd3eb1b0_0  \n",
      "gast                      0.4.0                      py_0  \n",
      "gitdb                     4.0.6                    pypi_0    pypi\n",
      "gitpython                 3.1.12                   pypi_0    pypi\n",
      "glib                      2.67.4               h36276a3_1  \n",
      "google-auth               1.28.0             pyhd3eb1b0_0  \n",
      "google-auth-oauthlib      0.4.3              pyhd3eb1b0_0  \n",
      "google-pasta              0.2.0                      py_0  \n",
      "grpcio                    1.36.1           py37h2157cd5_1  \n",
      "gst-plugins-base          1.14.0               h8213a91_2  \n",
      "gstreamer                 1.14.0               h28cd5cc_2  \n",
      "h5netcdf                  0.10.0             pyhd8ed1ab_0    conda-forge\n",
      "h5py                      2.10.0           py37h7918eee_0  \n",
      "hdf4                      4.2.13               h3ca952b_2  \n",
      "hdf5                      1.10.4               hb1b8bf9_0  \n",
      "heapdict                  1.0.1                      py_0  \n",
      "humanfriendly             9.1                      pypi_0    pypi\n",
      "humanize                  2.6.0                    pypi_0    pypi\n",
      "icu                       58.2                 he6710b0_3  \n",
      "idna                      2.10               pyhd3eb1b0_0  \n",
      "importlib-metadata        3.7.3            py37h06a4308_1  \n",
      "importlib_metadata        3.7.3                hd3eb1b0_1  \n",
      "intake                    0.6.2              pyhd3eb1b0_0  \n",
      "intake-esm                2020.8.15                  py_0    conda-forge\n",
      "intake-xarray             0.5.0              pyhd3eb1b0_0  \n",
      "intel-openmp              2020.2                      254  \n",
      "ipykernel                 5.3.4            py37h5ca1d4c_0  \n",
      "ipython                   7.21.0           py37hb070fc8_0  \n",
      "ipython_genutils          0.2.0                      py_1    conda-forge\n",
      "isodate                   0.6.0                    pypi_0    pypi\n",
      "jasper                    1.900.1              hd497a04_4  \n",
      "jedi                      0.17.2           py37h06a4308_1  \n",
      "jinja2                    2.11.3             pyhd3eb1b0_0  \n",
      "jmespath                  0.10.0                     py_0  \n",
      "joblib                    1.0.1              pyhd3eb1b0_0  \n",
      "jpeg                      9d                   h36c2ea0_0    conda-forge\n",
      "json5                     0.9.5                    pypi_0    pypi\n",
      "jsonschema                3.2.0                      py_2  \n",
      "jupyter-packaging         0.7.12                   pypi_0    pypi\n",
      "jupyter-server            1.5.1                    pypi_0    pypi\n",
      "jupyter-server-proxy      3.0.2                    pypi_0    pypi\n",
      "jupyter_client            6.1.12             pyhd8ed1ab_0    conda-forge\n",
      "jupyter_core              4.7.1            py37h89c1867_0    conda-forge\n",
      "jupyterlab                3.0.12                   pypi_0    pypi\n",
      "jupyterlab-server         2.3.0                    pypi_0    pypi\n",
      "jupyterlab_pygments       0.1.2                      py_0  \n",
      "keras-preprocessing       1.1.2              pyhd3eb1b0_0  \n",
      "kiwisolver                1.3.1            py37h2531618_0  \n",
      "krb5                      1.18.2               h173b8e3_0  \n",
      "lazy-object-proxy         1.6.0                    pypi_0    pypi\n",
      "lcms2                     2.11                 h396b838_0  \n",
      "ld_impl_linux-64          2.33.1               h53a641e_7  \n",
      "libaec                    1.0.4                he6710b0_1  \n",
      "libcurl                   7.71.1               h20c2e04_1  \n",
      "libedit                   3.1.20210216         h27cfd23_1  \n",
      "libffi                    3.3                  he6710b0_2  \n",
      "libgcc-ng                 9.1.0                hdf63c60_0  \n",
      "libgfortran-ng            7.3.0                hdf63c60_0  \n",
      "libllvm10                 10.0.1               hbcb73fb_5  \n",
      "libnetcdf                 4.6.2             hbdf4f91_1001    conda-forge\n",
      "libpng                    1.6.37               hbc83047_0  \n",
      "libprotobuf               3.14.0               h8c45485_0  \n",
      "libsodium                 1.0.18               h36c2ea0_1    conda-forge\n",
      "libssh2                   1.9.0                h1ba5d50_1  \n",
      "libstdcxx-ng              9.1.0                hdf63c60_0  \n",
      "libtiff                   4.2.0                h85742a9_0  \n",
      "libuuid                   1.0.3                h1bed415_2  \n",
      "libwebp-base              1.2.0                h27cfd23_0  \n",
      "libxcb                    1.14                 h7b6447c_0  \n",
      "libxml2                   2.9.10               hb55368b_3  \n",
      "llvmlite                  0.36.0           py37h612dafd_4  \n",
      "locket                    0.2.1            py37h06a4308_1  \n",
      "lockfile                  0.12.2                   pypi_0    pypi\n",
      "lxml                      4.6.3                    pypi_0    pypi\n",
      "lz4-c                     1.9.3                h2531618_0  \n",
      "magics                    1.5.6                    pypi_0    pypi\n",
      "markdown                  3.3.4            py37h06a4308_0  \n",
      "markupsafe                1.1.1            py37h14c3975_1  \n",
      "marshmallow               3.10.0                   pypi_0    pypi\n",
      "matplotlib                3.3.4            py37h06a4308_0  \n",
      "matplotlib-base           3.3.4            py37h62a2d02_0  \n",
      "mistune                   0.8.4           py37h14c3975_1001  \n",
      "mkl                       2020.2                      256  \n",
      "mkl-service               2.3.0            py37he8ac12f_0  \n",
      "mkl_fft                   1.3.0            py37h54f3939_0  \n",
      "mkl_random                1.1.1            py37h0573a6f_0  \n",
      "monotonic                 1.5                        py_0  \n",
      "msgpack-python            1.0.2            py37hff7bd54_1  \n",
      "multidict                 5.1.0            py37h27cfd23_2  \n",
      "mypy-extensions           0.4.3                    pypi_0    pypi\n",
      "nb-black                  1.0.7                    pypi_0    pypi\n",
      "nb_conda_kernels          2.3.1            py37h06a4308_0  \n",
      "nbclassic                 0.2.6                    pypi_0    pypi\n",
      "nbclient                  0.5.3              pyhd3eb1b0_0  \n",
      "nbconvert                 6.0.7                    py37_0  \n",
      "nbformat                  5.1.2              pyhd3eb1b0_1  \n",
      "ncurses                   6.2                  he6710b0_1  \n",
      "ndg-httpsclient           0.5.1                    pypi_0    pypi\n",
      "nest-asyncio              1.5.1              pyhd3eb1b0_0  \n",
      "netcdf4                   1.5.1            py37had58050_0    conda-forge\n",
      "networkx                  2.5                      pypi_0    pypi\n",
      "notebook                  6.3.0            py37h06a4308_0  \n",
      "numba                     0.53.0           py37ha9443f7_0  \n",
      "numcodecs                 0.7.3            py37h2531618_0  \n",
      "numpy                     1.19.2           py37h54aff64_0  \n",
      "numpy-base                1.19.2           py37hfa32c7d_0  \n",
      "oauthlib                  3.1.0                      py_0  \n",
      "olefile                   0.46                     py37_0  \n",
      "openssl                   1.1.1k               h27cfd23_0  \n",
      "opt_einsum                3.1.0                      py_0  \n",
      "owlrl                     5.2.1                    pypi_0    pypi\n",
      "packaging                 20.9               pyhd3eb1b0_0  \n",
      "pandas                    1.2.3            py37ha9443f7_0  \n",
      "pandoc                    2.12                 h06a4308_0  \n",
      "pandocfilters             1.4.3            py37h06a4308_1  \n",
      "parso                     0.7.0                      py_0  \n",
      "partd                     1.1.0                      py_0  \n",
      "pathspec                  0.8.0                    pypi_0    pypi\n",
      "patool                    1.12                     pypi_0    pypi\n",
      "pcre                      8.44                 he6710b0_0  \n",
      "pdbufr                    0.8.2                    pypi_0    pypi\n",
      "pexpect                   4.8.0              pyhd3eb1b0_3  \n",
      "pickleshare               0.7.5           pyhd3eb1b0_1003  \n",
      "pillow                    8.1.2            py37he98fc37_0  \n",
      "pip                       21.0.1           py37h06a4308_0  \n",
      "pluggy                    0.13.1                   pypi_0    pypi\n",
      "portalocker               2.2.1                    pypi_0    pypi\n",
      "prometheus_client         0.9.0              pyhd3eb1b0_0  \n",
      "prompt-toolkit            3.0.17             pyh06a4308_0  \n",
      "properscoring             0.1                        py_0    conda-forge\n",
      "protobuf                  3.14.0           py37h2531618_1  \n",
      "prov                      1.5.1                    pypi_0    pypi\n",
      "psutil                    5.7.2                    pypi_0    pypi\n",
      "ptyprocess                0.7.0              pyhd3eb1b0_2  \n",
      "pyasn1                    0.4.8                      py_0  \n",
      "pyasn1-modules            0.2.8                      py_0  \n",
      "pycparser                 2.20                       py_2  \n",
      "pydap                     3.2.2           pyh9f0ad1d_1001    conda-forge\n",
      "pydot                     1.4.2                    pypi_0    pypi\n",
      "pygments                  2.8.1              pyhd3eb1b0_0  \n",
      "pyjwt                     2.0.0                    pypi_0    pypi\n",
      "pyld                      2.0.3                    pypi_0    pypi\n",
      "pyodc                     1.0.3                    pypi_0    pypi\n",
      "pyopenssl                 19.1.0                   pypi_0    pypi\n",
      "pyparsing                 2.4.7              pyhd3eb1b0_0  \n",
      "pyqt                      5.9.2            py37h05f1152_2  \n",
      "pyrsistent                0.17.3           py37h7b6447c_0  \n",
      "pyshacl                   0.11.3.post1             pypi_0    pypi\n",
      "pysocks                   1.7.1                    py37_1  \n",
      "python                    3.7.10               hdb3f193_0  \n",
      "python-dateutil           2.8.1              pyhd3eb1b0_0  \n",
      "python-editor             1.0.4                    pypi_0    pypi\n",
      "python-flatbuffers        1.12               pyhd3eb1b0_0  \n",
      "python_abi                3.7                     1_cp37m    conda-forge\n",
      "pytz                      2021.1             pyhd3eb1b0_0  \n",
      "pyyaml                    5.3.1                    pypi_0    pypi\n",
      "pyzmq                     19.0.2           py37hac76be4_2    conda-forge\n",
      "qt                        5.9.7                h5867ecd_1  \n",
      "rdflib                    5.0.0                    pypi_0    pypi\n",
      "rdflib-jsonld             0.5.0                    pypi_0    pypi\n",
      "readline                  8.1                  h27cfd23_0  \n",
      "rechunker                 0.3.3                    pypi_0    pypi\n",
      "regex                     2021.3.17                pypi_0    pypi\n",
      "renku                     0.14.1                   pypi_0    pypi\n",
      "requests                  2.24.0                   pypi_0    pypi\n",
      "requests-oauthlib         1.3.0                      py_0  \n",
      "rich                      9.3.0                    pypi_0    pypi\n",
      "rsa                       4.7.2              pyhd3eb1b0_1  \n",
      "ruamel-yaml               0.16.5                   pypi_0    pypi\n",
      "ruamel-yaml-clib          0.2.2                    pypi_0    pypi\n",
      "s3fs                      0.5.2              pyhd3eb1b0_0  \n",
      "schema-salad              7.1.20210316164414          pypi_0    pypi\n",
      "scikit-learn              0.24.1           py37ha9443f7_0  \n",
      "scipy                     1.6.1            py37h91f5cce_0  \n",
      "send2trash                1.5.0              pyhd3eb1b0_1  \n",
      "setuptools                52.0.0           py37h06a4308_0  \n",
      "setuptools-scm            4.1.2                    pypi_0    pypi\n",
      "shellescape               3.4.1                    pypi_0    pypi\n",
      "shellingham               1.4.0                    pypi_0    pypi\n",
      "simpervisor               0.4                      pypi_0    pypi\n",
      "sip                       4.19.8           py37hf484d3e_0  \n",
      "six                       1.15.0           py37h06a4308_0  \n",
      "smmap                     3.0.5                    pypi_0    pypi\n",
      "sniffio                   1.2.0                    pypi_0    pypi\n",
      "sortedcontainers          2.3.0              pyhd3eb1b0_0  \n",
      "soupsieve                 2.2.1              pyhd3eb1b0_0  \n",
      "sqlite                    3.35.2               hdfb4753_0  \n",
      "tabulate                  0.8.7                    pypi_0    pypi\n",
      "tbb                       2020.3               hfd86e86_0  \n",
      "tblib                     1.7.0                      py_0  \n",
      "tensorboard               2.4.0              pyhc547734_0  \n",
      "tensorboard-plugin-wit    1.6.0                      py_0  \n",
      "tensorflow                2.4.1           mkl_py37h2d14ff2_0  \n",
      "tensorflow-base           2.4.1           mkl_py37h43e0292_0  \n",
      "tensorflow-estimator      2.4.1              pyheb71bc4_0  \n",
      "termcolor                 1.1.0            py37h06a4308_1  \n",
      "terminado                 0.9.3            py37h06a4308_0  \n",
      "testpath                  0.4.4              pyhd3eb1b0_0  \n",
      "threadpoolctl             2.1.0              pyh5ca1d4c_0  \n",
      "tk                        8.6.10               hbc83047_0  \n",
      "toml                      0.10.2                   pypi_0    pypi\n",
      "toolz                     0.11.1             pyhd3eb1b0_0  \n",
      "tornado                   6.1              py37h27cfd23_0  \n",
      "tqdm                      4.48.2                   pypi_0    pypi\n",
      "traitlets                 5.0.5                      py_0    conda-forge\n",
      "typed-ast                 1.4.2                    pypi_0    pypi\n",
      "typing-extensions         3.7.4.3              hd3eb1b0_0  \n",
      "typing_extensions         3.7.4.3            pyh06a4308_0  \n",
      "urllib3                   1.25.11                  pypi_0    pypi\n",
      "wcmatch                   6.1                      pypi_0    pypi\n",
      "wcwidth                   0.2.5                      py_0  \n",
      "webencodings              0.5.1                    py37_1  \n",
      "webob                     1.8.7              pyhd3eb1b0_0  \n",
      "werkzeug                  1.0.1              pyhd3eb1b0_0  \n",
      "wheel                     0.36.2             pyhd3eb1b0_0  \n",
      "wrapt                     1.12.1           py37h7b6447c_1  \n",
      "xarray                    0.17.0             pyhd3eb1b0_0  \n",
      "xhistogram                0.1.2              pyhd8ed1ab_0    conda-forge\n",
      "xskillscore               0.0.20                   pypi_0    pypi\n",
      "xz                        5.2.5                h7b6447c_0  \n",
      "yaml                      0.2.5                h7b6447c_0  \n",
      "yarl                      1.6.3            py37h27cfd23_0  \n",
      "zarr                      2.6.1              pyhd3eb1b0_0  \n",
      "zeromq                    4.3.4                h2531618_0  \n",
      "zict                      2.0.0              pyhd3eb1b0_0  \n",
      "zipp                      3.4.1              pyhd3eb1b0_0  \n",
      "zlib                      1.2.11               h7b6447c_3  \n",
      "zstd                      1.4.5                h9ceee32_0  \n"
     ]
    }
   ],
   "source": [
    "!conda list"
   ]
  },
  {
   "cell_type": "code",
   "execution_count": null,
   "metadata": {},
   "outputs": [],
   "source": []
  }
 ],
 "metadata": {
  "kernelspec": {
   "display_name": "Python [conda env:s2s-ai]",
   "language": "python",
   "name": "conda-env-s2s-ai-py"
  },
  "language_info": {
   "codemirror_mode": {
    "name": "ipython",
    "version": 3
   },
   "file_extension": ".py",
   "mimetype": "text/x-python",
   "name": "python",
   "nbconvert_exporter": "python",
   "pygments_lexer": "ipython3",
   "version": "3.7.10"
  },
  "toc-autonumbering": true
 },
 "nbformat": 4,
 "nbformat_minor": 4
}
