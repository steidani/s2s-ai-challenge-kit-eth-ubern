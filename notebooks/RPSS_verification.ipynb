{
 "cells": [
  {
   "cell_type": "markdown",
   "metadata": {},
   "source": [
    "# Score biweekly ML forecasts against re-calibrated ECWMF forecast with RPSS"
   ]
  },
  {
   "cell_type": "markdown",
   "metadata": {},
   "source": [
    "Goal:\n",
    "\n",
    "- Score biweekly ML forecasts against re-calibrated ECWMF forecast with RPSS\n",
    "\n",
    "Requirements:\n",
    "\n",
    "- [`xskillscore`](https://github.com/xarray-contrib/xskillscore)\n",
    "- [renku datasets](https://renku-python.readthedocs.io/en/latest/commands.html#module-renku.cli.dataset) / file\n",
    "    - observations\n",
    "        - probabilistic:\n",
    "            - renku dataset: `forecast-like-observations_2020_biweekly_terciled.nc`\n",
    "    - ML forecasts\n",
    "        - probabilistic:\n",
    "            - file: `../submissions/ML_prediction_2020.nc`\n",
    "    - benchmark:\n",
    "        - probabilistic:\n",
    "            - renku dataset: `ecmwf_recalibrated_benchmark_2020_biweekly_terciled.nc` \n",
    "        \n",
    "Output:\n",
    "- RPSS score spatially averaged from [90N-60S] and averaged over both `lead_time`s and variables"
   ]
  },
  {
   "cell_type": "code",
   "execution_count": 1,
   "metadata": {},
   "outputs": [
    {
     "name": "stdout",
     "output_type": "stream",
     "text": [
      "Climetlab version : 0.7.0\n",
      "Climetlab-s2s-ai-challenge plugin version : 0.6.0\n"
     ]
    },
    {
     "name": "stderr",
     "output_type": "stream",
     "text": [
      "WARNING: ecmwflibs universal: cannot find a library called MagPlus\n",
      "/work/mh0727/m300524/conda-envs/s2s-ai/lib/python3.7/site-packages/climetlab/plotting/drivers/magics/actions.py:36: UserWarning: Magics library could not be found\n",
      "  warnings.warn(str(e))\n"
     ]
    }
   ],
   "source": [
    "import climetlab_s2s_ai_challenge\n",
    "import climetlab as cml\n",
    "print(f'Climetlab version : {cml.__version__}')\n",
    "print(f'Climetlab-s2s-ai-challenge plugin version : {climetlab_s2s_ai_challenge.__version__}')"
   ]
  },
  {
   "cell_type": "code",
   "execution_count": 2,
   "metadata": {},
   "outputs": [],
   "source": [
    "import matplotlib.pyplot as plt\n",
    "import xarray as xr\n",
    "import xskillscore as xs\n",
    "import pandas as pd\n",
    "import numpy as np\n",
    "\n",
    "xr.set_options(keep_attrs=True)\n",
    "xr.set_options(display_style='text')\n",
    "\n",
    "cache_path = \"../data\"\n",
    "\n",
    "plot = False"
   ]
  },
  {
   "cell_type": "markdown",
   "metadata": {},
   "source": [
    "# Get categorized"
   ]
  },
  {
   "cell_type": "markdown",
   "metadata": {},
   "source": [
    "## 2020 observations"
   ]
  },
  {
   "cell_type": "code",
   "execution_count": 3,
   "metadata": {},
   "outputs": [],
   "source": [
    "# to use retrieve from git lfs\n",
    "#!renku storage pull ../data/forecast-like-observations_2020_biweekly_terciled.nc"
   ]
  },
  {
   "cell_type": "code",
   "execution_count": 4,
   "metadata": {},
   "outputs": [
    {
     "data": {
      "text/plain": [
       "Frozen(SortedKeysDict({'category': 3, 'lead_time': 2, 'forecast_time': 53, 'latitude': 121, 'longitude': 240}))"
      ]
     },
     "execution_count": 4,
     "metadata": {},
     "output_type": "execute_result"
    }
   ],
   "source": [
    "obs_p = xr.open_dataset(f'{cache_path}/forecast-like-observations_2020_biweekly_terciled.nc')\n",
    "\n",
    "obs_p.sizes"
   ]
  },
  {
   "cell_type": "markdown",
   "metadata": {},
   "source": [
    "## 2020 ML-based forecasts"
   ]
  },
  {
   "cell_type": "code",
   "execution_count": 5,
   "metadata": {},
   "outputs": [],
   "source": [
    "#!renku storage pull ../submissions/ML_prediction_2020.nc"
   ]
  },
  {
   "cell_type": "code",
   "execution_count": 6,
   "metadata": {},
   "outputs": [
    {
     "data": {
      "text/plain": [
       "Frozen(SortedKeysDict({'forecast_time': 53, 'latitude': 121, 'lead_time': 2, 'longitude': 240, 'category': 3}))"
      ]
     },
     "execution_count": 6,
     "metadata": {},
     "output_type": "execute_result"
    }
   ],
   "source": [
    "# submission for your ML model\n",
    "fct_p = xr.open_dataset(f\"../submissions/ML_prediction_2020.nc\")\n",
    "fct_p.sizes"
   ]
  },
  {
   "cell_type": "markdown",
   "metadata": {},
   "source": [
    "## 2020 ECMWF recalibrated benchmark"
   ]
  },
  {
   "cell_type": "code",
   "execution_count": 7,
   "metadata": {},
   "outputs": [],
   "source": [
    "#!renku storage pull ../data/ecmwf_recalibrated_benchmark_2020_biweekly_terciled.nc"
   ]
  },
  {
   "cell_type": "code",
   "execution_count": 8,
   "metadata": {},
   "outputs": [
    {
     "data": {
      "text/plain": [
       "Frozen(SortedKeysDict({'forecast_time': 53, 'category': 3, 'lead_time': 2, 'latitude': 121, 'longitude': 240}))"
      ]
     },
     "execution_count": 8,
     "metadata": {},
     "output_type": "execute_result"
    }
   ],
   "source": [
    "bench_p = xr.open_dataset('../data/ecmwf_recalibrated_benchmark_2020_biweekly_terciled.nc')\n",
    "bench_p.sizes"
   ]
  },
  {
   "cell_type": "markdown",
   "metadata": {},
   "source": [
    "### checks"
   ]
  },
  {
   "cell_type": "code",
   "execution_count": 9,
   "metadata": {},
   "outputs": [],
   "source": [
    "from scripts import assert_predictions_2020"
   ]
  },
  {
   "cell_type": "code",
   "execution_count": 10,
   "metadata": {},
   "outputs": [],
   "source": [
    "assert_predictions_2020(fct_p)\n",
    "assert_predictions_2020(bench_p)\n",
    "assert_predictions_2020(obs_p)"
   ]
  },
  {
   "cell_type": "markdown",
   "metadata": {},
   "source": [
    "# RPS"
   ]
  },
  {
   "cell_type": "markdown",
   "metadata": {},
   "source": [
    "## RPS ML model"
   ]
  },
  {
   "cell_type": "code",
   "execution_count": 11,
   "metadata": {},
   "outputs": [],
   "source": [
    "rps_ML = xs.rps(obs_p, fct_p, category_edges=None, dim='forecast_time', input_distributions='p').compute()"
   ]
  },
  {
   "cell_type": "code",
   "execution_count": 12,
   "metadata": {},
   "outputs": [],
   "source": [
    "if plot:\n",
    "    for v in rps_ML.data_vars:\n",
    "        rps_ML[v].plot(robust=True, col='lead_time')"
   ]
  },
  {
   "cell_type": "markdown",
   "metadata": {},
   "source": [
    "## RPS re-calibrated ECMWF benchmark"
   ]
  },
  {
   "cell_type": "code",
   "execution_count": 13,
   "metadata": {},
   "outputs": [],
   "source": [
    "rps_bench = xs.rps(obs_p, bench_p, category_edges=None, dim='forecast_time', input_distributions='p').compute()"
   ]
  },
  {
   "cell_type": "code",
   "execution_count": 14,
   "metadata": {},
   "outputs": [],
   "source": [
    "if plot:\n",
    "    for v in rps_bench.data_vars:\n",
    "        rps_bench[v].plot(robust=True, col='lead_time')"
   ]
  },
  {
   "cell_type": "markdown",
   "metadata": {},
   "source": [
    "## RPSS"
   ]
  },
  {
   "cell_type": "code",
   "execution_count": 15,
   "metadata": {},
   "outputs": [],
   "source": [
    "rpss = (1 - rps_ML / rps_bench)"
   ]
  },
  {
   "cell_type": "code",
   "execution_count": 16,
   "metadata": {},
   "outputs": [],
   "source": [
    "if plot:\n",
    "    for v in rpss.data_vars:\n",
    "        rpss[v].plot(robust=True, col='lead_time')"
   ]
  },
  {
   "cell_type": "code",
   "execution_count": null,
   "metadata": {},
   "outputs": [],
   "source": []
  },
  {
   "cell_type": "markdown",
   "metadata": {},
   "source": [
    "# scoring for RPS leaderboard"
   ]
  },
  {
   "cell_type": "code",
   "execution_count": 17,
   "metadata": {},
   "outputs": [],
   "source": [
    "# check for -inf grid cells\n",
    "if (rpss==-np.inf).to_array().any():\n",
    "    (rpss == rpss.min()).sum()\n",
    "\n",
    "    # dirty fix\n",
    "    rpss = rpss.clip(-1, 1)"
   ]
  },
  {
   "cell_type": "code",
   "execution_count": 18,
   "metadata": {},
   "outputs": [],
   "source": [
    "# what to do with requested grid cells where NaN is submitted? also penalize"
   ]
  },
  {
   "cell_type": "code",
   "execution_count": 19,
   "metadata": {},
   "outputs": [],
   "source": [
    "mask = xr.ones_like(rpss.isel(lead_time=0, drop=True)).reset_coords(drop=True).t2m\n",
    "boundary_tropics = 30\n",
    "mask = xr.concat([mask.where(mask.latitude > boundary_tropics),\n",
    "                mask.where(np.abs(mask.latitude) <= boundary_tropics),\n",
    "                mask.where((mask.latitude < -boundary_tropics) & (mask.latitude > -60))],'area')\n",
    "mask = mask.assign_coords(area=['northern_extratropics', 'tropics', 'southern_extratropics'])\n",
    "mask.name = 'area'\n",
    "\n",
    "mask = mask.where(rpss.t2m.isel(lead_time=0, drop=True).notnull())"
   ]
  },
  {
   "cell_type": "code",
   "execution_count": 20,
   "metadata": {},
   "outputs": [],
   "source": [
    "# weighted area mean\n",
    "weights = np.cos(np.deg2rad(np.abs(mask.latitude)))\n",
    "scores = (rpss*mask).weighted(weights).mean('latitude').mean('longitude')\n",
    "pd_scores = scores.reset_coords(drop=True).to_dataframe().unstack(0).round(2)"
   ]
  },
  {
   "cell_type": "code",
   "execution_count": 21,
   "metadata": {},
   "outputs": [],
   "source": [
    "# final score\n",
    "scores = rpss.weighted(weights).mean('latitude').mean('longitude')\n",
    "# spatially weighted score averaged over lead_times and variables to one single value"
   ]
  },
  {
   "cell_type": "code",
   "execution_count": 22,
   "metadata": {},
   "outputs": [
    {
     "name": "stdout",
     "output_type": "stream",
     "text": [
      "<xarray.DataArray ()>\n",
      "array(-0.00725325)\n"
     ]
    }
   ],
   "source": [
    "# score transfered to leaderboard\n",
    "scores = scores.to_array().mean().reset_coords(drop=True)\n",
    "print(scores)"
   ]
  },
  {
   "cell_type": "code",
   "execution_count": null,
   "metadata": {},
   "outputs": [],
   "source": []
  }
 ],
 "metadata": {
  "kernelspec": {
   "display_name": "Python [conda env:s2s-ai]",
   "language": "python",
   "name": "conda-env-s2s-ai-py"
  },
  "language_info": {
   "codemirror_mode": {
    "name": "ipython",
    "version": 3
   },
   "file_extension": ".py",
   "mimetype": "text/x-python",
   "name": "python",
   "nbconvert_exporter": "python",
   "pygments_lexer": "ipython3",
   "version": "3.7.10"
  },
  "toc-autonumbering": true
 },
 "nbformat": 4,
 "nbformat_minor": 4
}
